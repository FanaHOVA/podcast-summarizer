{
 "cells": [
  {
   "cell_type": "code",
   "execution_count": 6,
   "id": "712fdefe-b4a9-4244-9c37-74cb3a179187",
   "metadata": {
    "tags": []
   },
   "outputs": [
    {
     "name": "stdout",
     "output_type": "stream",
     "text": [
      "Requirement already satisfied: nba_api in /opt/homebrew/lib/python3.10/site-packages (from -r requirements.txt (line 1)) (1.1.14)\n",
      "Requirement already satisfied: pandas in /opt/homebrew/lib/python3.10/site-packages (from -r requirements.txt (line 2)) (1.5.3)\n",
      "Requirement already satisfied: langchain in /opt/homebrew/lib/python3.10/site-packages (from -r requirements.txt (line 3)) (0.0.74)\n",
      "Requirement already satisfied: yt-dlp in /opt/homebrew/lib/python3.10/site-packages (from -r requirements.txt (line 4)) (2023.1.6)\n",
      "Requirement already satisfied: openai-whisper in /opt/homebrew/lib/python3.10/site-packages (from -r requirements.txt (line 5)) (20230124)\n",
      "Requirement already satisfied: python-dotenv in /opt/homebrew/lib/python3.10/site-packages (from -r requirements.txt (line 6)) (0.21.1)\n",
      "Requirement already satisfied: openai in /opt/homebrew/lib/python3.10/site-packages (from -r requirements.txt (line 7)) (0.26.4)\n",
      "Requirement already satisfied: tiktoken in /opt/homebrew/lib/python3.10/site-packages (from -r requirements.txt (line 8)) (0.1.2)\n",
      "Requirement already satisfied: nltk in /opt/homebrew/lib/python3.10/site-packages (from -r requirements.txt (line 9)) (3.8.1)\n",
      "Requirement already satisfied: numpy<2.0.0,>=1.22.2 in /opt/homebrew/lib/python3.10/site-packages (from nba_api->-r requirements.txt (line 1)) (1.24.1)\n",
      "Requirement already satisfied: requests in /opt/homebrew/lib/python3.10/site-packages (from nba_api->-r requirements.txt (line 1)) (2.28.2)\n",
      "Requirement already satisfied: python-dateutil>=2.8.1 in /opt/homebrew/lib/python3.10/site-packages (from pandas->-r requirements.txt (line 2)) (2.8.2)\n",
      "Requirement already satisfied: pytz>=2020.1 in /opt/homebrew/lib/python3.10/site-packages (from pandas->-r requirements.txt (line 2)) (2022.7.1)\n",
      "Requirement already satisfied: PyYAML<7,>=6 in /opt/homebrew/lib/python3.10/site-packages (from langchain->-r requirements.txt (line 3)) (6.0)\n",
      "Requirement already satisfied: SQLAlchemy<2,>=1 in /opt/homebrew/lib/python3.10/site-packages (from langchain->-r requirements.txt (line 3)) (1.4.46)\n",
      "Requirement already satisfied: pydantic<2,>=1 in /opt/homebrew/lib/python3.10/site-packages (from langchain->-r requirements.txt (line 3)) (1.10.4)\n",
      "Requirement already satisfied: dataclasses-json<0.6.0,>=0.5.7 in /opt/homebrew/lib/python3.10/site-packages (from langchain->-r requirements.txt (line 3)) (0.5.7)\n",
      "Requirement already satisfied: mutagen in /opt/homebrew/lib/python3.10/site-packages (from yt-dlp->-r requirements.txt (line 4)) (1.46.0)\n",
      "Requirement already satisfied: pycryptodomex in /opt/homebrew/lib/python3.10/site-packages (from yt-dlp->-r requirements.txt (line 4)) (3.17)\n",
      "Requirement already satisfied: brotli in /opt/homebrew/lib/python3.10/site-packages (from yt-dlp->-r requirements.txt (line 4)) (1.0.9)\n",
      "Requirement already satisfied: certifi in /opt/homebrew/lib/python3.10/site-packages (from yt-dlp->-r requirements.txt (line 4)) (2022.12.7)\n",
      "Requirement already satisfied: websockets in /opt/homebrew/lib/python3.10/site-packages (from yt-dlp->-r requirements.txt (line 4)) (10.4)\n",
      "Requirement already satisfied: ffmpeg-python==0.2.0 in /opt/homebrew/lib/python3.10/site-packages (from openai-whisper->-r requirements.txt (line 5)) (0.2.0)\n",
      "Requirement already satisfied: tqdm in /opt/homebrew/lib/python3.10/site-packages (from openai-whisper->-r requirements.txt (line 5)) (4.64.1)\n",
      "Requirement already satisfied: more-itertools in /opt/homebrew/lib/python3.10/site-packages (from openai-whisper->-r requirements.txt (line 5)) (9.0.0)\n",
      "Requirement already satisfied: torch in /opt/homebrew/lib/python3.10/site-packages (from openai-whisper->-r requirements.txt (line 5)) (1.13.1)\n",
      "Requirement already satisfied: transformers>=4.19.0 in /opt/homebrew/lib/python3.10/site-packages (from openai-whisper->-r requirements.txt (line 5)) (4.26.0)\n",
      "Requirement already satisfied: future in /opt/homebrew/lib/python3.10/site-packages (from ffmpeg-python==0.2.0->openai-whisper->-r requirements.txt (line 5)) (0.18.3)\n",
      "Requirement already satisfied: aiohttp in /opt/homebrew/lib/python3.10/site-packages (from openai->-r requirements.txt (line 7)) (3.8.3)\n",
      "Requirement already satisfied: blobfile>=2 in /opt/homebrew/lib/python3.10/site-packages (from tiktoken->-r requirements.txt (line 8)) (2.0.1)\n",
      "Requirement already satisfied: regex>=2022.1.18 in /opt/homebrew/lib/python3.10/site-packages (from tiktoken->-r requirements.txt (line 8)) (2022.10.31)\n",
      "Requirement already satisfied: joblib in /opt/homebrew/lib/python3.10/site-packages (from nltk->-r requirements.txt (line 9)) (1.2.0)\n",
      "Requirement already satisfied: click in /opt/homebrew/lib/python3.10/site-packages (from nltk->-r requirements.txt (line 9)) (8.1.3)\n",
      "Requirement already satisfied: lxml~=4.9 in /opt/homebrew/lib/python3.10/site-packages (from blobfile>=2->tiktoken->-r requirements.txt (line 8)) (4.9.2)\n",
      "Requirement already satisfied: filelock~=3.0 in /opt/homebrew/lib/python3.10/site-packages (from blobfile>=2->tiktoken->-r requirements.txt (line 8)) (3.9.0)\n",
      "Requirement already satisfied: urllib3<3,>=1.25.3 in /opt/homebrew/lib/python3.10/site-packages (from blobfile>=2->tiktoken->-r requirements.txt (line 8)) (1.26.14)\n",
      "Requirement already satisfied: marshmallow<4.0.0,>=3.3.0 in /opt/homebrew/lib/python3.10/site-packages (from dataclasses-json<0.6.0,>=0.5.7->langchain->-r requirements.txt (line 3)) (3.19.0)\n",
      "Requirement already satisfied: typing-inspect>=0.4.0 in /opt/homebrew/lib/python3.10/site-packages (from dataclasses-json<0.6.0,>=0.5.7->langchain->-r requirements.txt (line 3)) (0.8.0)\n",
      "Requirement already satisfied: marshmallow-enum<2.0.0,>=1.5.1 in /opt/homebrew/lib/python3.10/site-packages (from dataclasses-json<0.6.0,>=0.5.7->langchain->-r requirements.txt (line 3)) (1.5.1)\n",
      "Requirement already satisfied: typing-extensions>=4.2.0 in /opt/homebrew/lib/python3.10/site-packages (from pydantic<2,>=1->langchain->-r requirements.txt (line 3)) (4.4.0)\n",
      "Requirement already satisfied: six>=1.5 in /opt/homebrew/lib/python3.10/site-packages (from python-dateutil>=2.8.1->pandas->-r requirements.txt (line 2)) (1.16.0)\n",
      "Requirement already satisfied: idna<4,>=2.5 in /opt/homebrew/lib/python3.10/site-packages (from requests->nba_api->-r requirements.txt (line 1)) (3.4)\n",
      "Requirement already satisfied: charset-normalizer<4,>=2 in /opt/homebrew/lib/python3.10/site-packages (from requests->nba_api->-r requirements.txt (line 1)) (2.1.1)\n",
      "Requirement already satisfied: packaging>=20.0 in /opt/homebrew/lib/python3.10/site-packages (from transformers>=4.19.0->openai-whisper->-r requirements.txt (line 5)) (23.0)\n",
      "Requirement already satisfied: tokenizers!=0.11.3,<0.14,>=0.11.1 in /opt/homebrew/lib/python3.10/site-packages (from transformers>=4.19.0->openai-whisper->-r requirements.txt (line 5)) (0.13.2)\n",
      "Requirement already satisfied: huggingface-hub<1.0,>=0.11.0 in /opt/homebrew/lib/python3.10/site-packages (from transformers>=4.19.0->openai-whisper->-r requirements.txt (line 5)) (0.12.0)\n",
      "Requirement already satisfied: frozenlist>=1.1.1 in /opt/homebrew/lib/python3.10/site-packages (from aiohttp->openai->-r requirements.txt (line 7)) (1.3.3)\n",
      "Requirement already satisfied: async-timeout<5.0,>=4.0.0a3 in /opt/homebrew/lib/python3.10/site-packages (from aiohttp->openai->-r requirements.txt (line 7)) (4.0.2)\n",
      "Requirement already satisfied: aiosignal>=1.1.2 in /opt/homebrew/lib/python3.10/site-packages (from aiohttp->openai->-r requirements.txt (line 7)) (1.3.1)\n",
      "Requirement already satisfied: multidict<7.0,>=4.5 in /opt/homebrew/lib/python3.10/site-packages (from aiohttp->openai->-r requirements.txt (line 7)) (6.0.4)\n",
      "Requirement already satisfied: attrs>=17.3.0 in /opt/homebrew/lib/python3.10/site-packages (from aiohttp->openai->-r requirements.txt (line 7)) (22.2.0)\n",
      "Requirement already satisfied: yarl<2.0,>=1.0 in /opt/homebrew/lib/python3.10/site-packages (from aiohttp->openai->-r requirements.txt (line 7)) (1.8.2)\n",
      "Requirement already satisfied: mypy-extensions>=0.3.0 in /opt/homebrew/lib/python3.10/site-packages (from typing-inspect>=0.4.0->dataclasses-json<0.6.0,>=0.5.7->langchain->-r requirements.txt (line 3)) (0.4.3)\n",
      "Note: you may need to restart the kernel to use updated packages.\n"
     ]
    },
    {
     "data": {
      "text/plain": [
       "True"
      ]
     },
     "execution_count": 6,
     "metadata": {},
     "output_type": "execute_result"
    }
   ],
   "source": [
    "%pip install -r requirements.txt\n",
    "\n",
    "from dotenv import load_dotenv\n",
    "\n",
    "load_dotenv()"
   ]
  },
  {
   "cell_type": "code",
   "execution_count": 7,
   "id": "6d72b24e-45cf-45fc-b2ca-a947f3e1022f",
   "metadata": {},
   "outputs": [
    {
     "name": "stdout",
     "output_type": "stream",
     "text": [
      "[youtube] Extracting URL: https://www.youtube.com/watch?v=57OU18cogJI\n",
      "[youtube] 57OU18cogJI: Downloading webpage\n"
     ]
    },
    {
     "name": "stderr",
     "output_type": "stream",
     "text": [
      "WARNING: [youtube] Unable to download webpage: <urlopen error EOF occurred in violation of protocol (_ssl.c:997)>\n"
     ]
    },
    {
     "name": "stdout",
     "output_type": "stream",
     "text": [
      "[youtube] 57OU18cogJI: Downloading android player API JSON\n"
     ]
    },
    {
     "name": "stderr",
     "output_type": "stream",
     "text": [
      "WARNING: [youtube] <urlopen error EOF occurred in violation of protocol (_ssl.c:997)>. Retrying (1/3)...\n"
     ]
    },
    {
     "name": "stdout",
     "output_type": "stream",
     "text": [
      "[youtube] 57OU18cogJI: Downloading android player API JSON\n"
     ]
    },
    {
     "name": "stderr",
     "output_type": "stream",
     "text": [
      "WARNING: [youtube] <urlopen error EOF occurred in violation of protocol (_ssl.c:997)>. Retrying (2/3)...\n"
     ]
    },
    {
     "name": "stdout",
     "output_type": "stream",
     "text": [
      "[youtube] 57OU18cogJI: Downloading android player API JSON\n"
     ]
    },
    {
     "name": "stderr",
     "output_type": "stream",
     "text": [
      "WARNING: [youtube] <urlopen error EOF occurred in violation of protocol (_ssl.c:997)>. Retrying (3/3)...\n"
     ]
    },
    {
     "name": "stdout",
     "output_type": "stream",
     "text": [
      "[youtube] 57OU18cogJI: Downloading android player API JSON\n",
      "[youtube] 57OU18cogJI: Downloading iframe API JS\n"
     ]
    },
    {
     "name": "stderr",
     "output_type": "stream",
     "text": [
      "WARNING: [youtube] Unable to download webpage: <urlopen error EOF occurred in violation of protocol (_ssl.c:997)>\n"
     ]
    },
    {
     "name": "stdout",
     "output_type": "stream",
     "text": [
      "[youtube] 57OU18cogJI: Downloading web player API JSON\n"
     ]
    },
    {
     "name": "stderr",
     "output_type": "stream",
     "text": [
      "WARNING: [youtube] <urlopen error EOF occurred in violation of protocol (_ssl.c:997)>. Retrying (1/3)...\n"
     ]
    },
    {
     "name": "stdout",
     "output_type": "stream",
     "text": [
      "[youtube] 57OU18cogJI: Downloading web player API JSON\n"
     ]
    },
    {
     "name": "stderr",
     "output_type": "stream",
     "text": [
      "WARNING: [youtube] <urlopen error EOF occurred in violation of protocol (_ssl.c:997)>. Retrying (2/3)...\n"
     ]
    },
    {
     "name": "stdout",
     "output_type": "stream",
     "text": [
      "[youtube] 57OU18cogJI: Downloading web player API JSON\n"
     ]
    },
    {
     "name": "stderr",
     "output_type": "stream",
     "text": [
      "WARNING: [youtube] <urlopen error EOF occurred in violation of protocol (_ssl.c:997)>. Retrying (3/3)...\n"
     ]
    },
    {
     "name": "stdout",
     "output_type": "stream",
     "text": [
      "[youtube] 57OU18cogJI: Downloading web player API JSON\n"
     ]
    },
    {
     "name": "stderr",
     "output_type": "stream",
     "text": [
      "WARNING: [youtube] Unable to download API page: <urlopen error EOF occurred in violation of protocol (_ssl.c:997)> (caused by URLError(SSLEOFError(8, 'EOF occurred in violation of protocol (_ssl.c:997)')))\n",
      "ERROR: [youtube] 57OU18cogJI: Unable to download API page: <urlopen error EOF occurred in violation of protocol (_ssl.c:997)> (caused by URLError(SSLEOFError(8, 'EOF occurred in violation of protocol (_ssl.c:997)')))\n"
     ]
    },
    {
     "ename": "DownloadError",
     "evalue": "ERROR: [youtube] 57OU18cogJI: Unable to download API page: <urlopen error EOF occurred in violation of protocol (_ssl.c:997)> (caused by URLError(SSLEOFError(8, 'EOF occurred in violation of protocol (_ssl.c:997)')))",
     "output_type": "error",
     "traceback": [
      "\u001b[0;31m---------------------------------------------------------------------------\u001b[0m",
      "\u001b[0;31mSSLEOFError\u001b[0m                               Traceback (most recent call last)",
      "File \u001b[0;32m/opt/homebrew/Cellar/python@3.10/3.10.9/Frameworks/Python.framework/Versions/3.10/lib/python3.10/urllib/request.py:1348\u001b[0m, in \u001b[0;36mAbstractHTTPHandler.do_open\u001b[0;34m(self, http_class, req, **http_conn_args)\u001b[0m\n\u001b[1;32m   1347\u001b[0m \u001b[39mtry\u001b[39;00m:\n\u001b[0;32m-> 1348\u001b[0m     h\u001b[39m.\u001b[39;49mrequest(req\u001b[39m.\u001b[39;49mget_method(), req\u001b[39m.\u001b[39;49mselector, req\u001b[39m.\u001b[39;49mdata, headers,\n\u001b[1;32m   1349\u001b[0m               encode_chunked\u001b[39m=\u001b[39;49mreq\u001b[39m.\u001b[39;49mhas_header(\u001b[39m'\u001b[39;49m\u001b[39mTransfer-encoding\u001b[39;49m\u001b[39m'\u001b[39;49m))\n\u001b[1;32m   1350\u001b[0m \u001b[39mexcept\u001b[39;00m \u001b[39mOSError\u001b[39;00m \u001b[39mas\u001b[39;00m err: \u001b[39m# timeout error\u001b[39;00m\n",
      "File \u001b[0;32m/opt/homebrew/Cellar/python@3.10/3.10.9/Frameworks/Python.framework/Versions/3.10/lib/python3.10/http/client.py:1282\u001b[0m, in \u001b[0;36mHTTPConnection.request\u001b[0;34m(self, method, url, body, headers, encode_chunked)\u001b[0m\n\u001b[1;32m   1281\u001b[0m \u001b[39m\u001b[39m\u001b[39m\"\"\"Send a complete request to the server.\"\"\"\u001b[39;00m\n\u001b[0;32m-> 1282\u001b[0m \u001b[39mself\u001b[39;49m\u001b[39m.\u001b[39;49m_send_request(method, url, body, headers, encode_chunked)\n",
      "File \u001b[0;32m/opt/homebrew/Cellar/python@3.10/3.10.9/Frameworks/Python.framework/Versions/3.10/lib/python3.10/http/client.py:1328\u001b[0m, in \u001b[0;36mHTTPConnection._send_request\u001b[0;34m(self, method, url, body, headers, encode_chunked)\u001b[0m\n\u001b[1;32m   1327\u001b[0m     body \u001b[39m=\u001b[39m _encode(body, \u001b[39m'\u001b[39m\u001b[39mbody\u001b[39m\u001b[39m'\u001b[39m)\n\u001b[0;32m-> 1328\u001b[0m \u001b[39mself\u001b[39;49m\u001b[39m.\u001b[39;49mendheaders(body, encode_chunked\u001b[39m=\u001b[39;49mencode_chunked)\n",
      "File \u001b[0;32m/opt/homebrew/Cellar/python@3.10/3.10.9/Frameworks/Python.framework/Versions/3.10/lib/python3.10/http/client.py:1277\u001b[0m, in \u001b[0;36mHTTPConnection.endheaders\u001b[0;34m(self, message_body, encode_chunked)\u001b[0m\n\u001b[1;32m   1276\u001b[0m     \u001b[39mraise\u001b[39;00m CannotSendHeader()\n\u001b[0;32m-> 1277\u001b[0m \u001b[39mself\u001b[39;49m\u001b[39m.\u001b[39;49m_send_output(message_body, encode_chunked\u001b[39m=\u001b[39;49mencode_chunked)\n",
      "File \u001b[0;32m/opt/homebrew/Cellar/python@3.10/3.10.9/Frameworks/Python.framework/Versions/3.10/lib/python3.10/http/client.py:1037\u001b[0m, in \u001b[0;36mHTTPConnection._send_output\u001b[0;34m(self, message_body, encode_chunked)\u001b[0m\n\u001b[1;32m   1036\u001b[0m \u001b[39mdel\u001b[39;00m \u001b[39mself\u001b[39m\u001b[39m.\u001b[39m_buffer[:]\n\u001b[0;32m-> 1037\u001b[0m \u001b[39mself\u001b[39;49m\u001b[39m.\u001b[39;49msend(msg)\n\u001b[1;32m   1039\u001b[0m \u001b[39mif\u001b[39;00m message_body \u001b[39mis\u001b[39;00m \u001b[39mnot\u001b[39;00m \u001b[39mNone\u001b[39;00m:\n\u001b[1;32m   1040\u001b[0m \n\u001b[1;32m   1041\u001b[0m     \u001b[39m# create a consistent interface to message_body\u001b[39;00m\n",
      "File \u001b[0;32m/opt/homebrew/Cellar/python@3.10/3.10.9/Frameworks/Python.framework/Versions/3.10/lib/python3.10/http/client.py:975\u001b[0m, in \u001b[0;36mHTTPConnection.send\u001b[0;34m(self, data)\u001b[0m\n\u001b[1;32m    974\u001b[0m \u001b[39mif\u001b[39;00m \u001b[39mself\u001b[39m\u001b[39m.\u001b[39mauto_open:\n\u001b[0;32m--> 975\u001b[0m     \u001b[39mself\u001b[39;49m\u001b[39m.\u001b[39;49mconnect()\n\u001b[1;32m    976\u001b[0m \u001b[39melse\u001b[39;00m:\n",
      "File \u001b[0;32m/opt/homebrew/Cellar/python@3.10/3.10.9/Frameworks/Python.framework/Versions/3.10/lib/python3.10/http/client.py:1454\u001b[0m, in \u001b[0;36mHTTPSConnection.connect\u001b[0;34m(self)\u001b[0m\n\u001b[1;32m   1452\u001b[0m     server_hostname \u001b[39m=\u001b[39m \u001b[39mself\u001b[39m\u001b[39m.\u001b[39mhost\n\u001b[0;32m-> 1454\u001b[0m \u001b[39mself\u001b[39m\u001b[39m.\u001b[39msock \u001b[39m=\u001b[39m \u001b[39mself\u001b[39;49m\u001b[39m.\u001b[39;49m_context\u001b[39m.\u001b[39;49mwrap_socket(\u001b[39mself\u001b[39;49m\u001b[39m.\u001b[39;49msock,\n\u001b[1;32m   1455\u001b[0m                                       server_hostname\u001b[39m=\u001b[39;49mserver_hostname)\n",
      "File \u001b[0;32m/opt/homebrew/Cellar/python@3.10/3.10.9/Frameworks/Python.framework/Versions/3.10/lib/python3.10/ssl.py:513\u001b[0m, in \u001b[0;36mSSLContext.wrap_socket\u001b[0;34m(self, sock, server_side, do_handshake_on_connect, suppress_ragged_eofs, server_hostname, session)\u001b[0m\n\u001b[1;32m    507\u001b[0m \u001b[39mdef\u001b[39;00m \u001b[39mwrap_socket\u001b[39m(\u001b[39mself\u001b[39m, sock, server_side\u001b[39m=\u001b[39m\u001b[39mFalse\u001b[39;00m,\n\u001b[1;32m    508\u001b[0m                 do_handshake_on_connect\u001b[39m=\u001b[39m\u001b[39mTrue\u001b[39;00m,\n\u001b[1;32m    509\u001b[0m                 suppress_ragged_eofs\u001b[39m=\u001b[39m\u001b[39mTrue\u001b[39;00m,\n\u001b[1;32m    510\u001b[0m                 server_hostname\u001b[39m=\u001b[39m\u001b[39mNone\u001b[39;00m, session\u001b[39m=\u001b[39m\u001b[39mNone\u001b[39;00m):\n\u001b[1;32m    511\u001b[0m     \u001b[39m# SSLSocket class handles server_hostname encoding before it calls\u001b[39;00m\n\u001b[1;32m    512\u001b[0m     \u001b[39m# ctx._wrap_socket()\u001b[39;00m\n\u001b[0;32m--> 513\u001b[0m     \u001b[39mreturn\u001b[39;00m \u001b[39mself\u001b[39;49m\u001b[39m.\u001b[39;49msslsocket_class\u001b[39m.\u001b[39;49m_create(\n\u001b[1;32m    514\u001b[0m         sock\u001b[39m=\u001b[39;49msock,\n\u001b[1;32m    515\u001b[0m         server_side\u001b[39m=\u001b[39;49mserver_side,\n\u001b[1;32m    516\u001b[0m         do_handshake_on_connect\u001b[39m=\u001b[39;49mdo_handshake_on_connect,\n\u001b[1;32m    517\u001b[0m         suppress_ragged_eofs\u001b[39m=\u001b[39;49msuppress_ragged_eofs,\n\u001b[1;32m    518\u001b[0m         server_hostname\u001b[39m=\u001b[39;49mserver_hostname,\n\u001b[1;32m    519\u001b[0m         context\u001b[39m=\u001b[39;49m\u001b[39mself\u001b[39;49m,\n\u001b[1;32m    520\u001b[0m         session\u001b[39m=\u001b[39;49msession\n\u001b[1;32m    521\u001b[0m     )\n",
      "File \u001b[0;32m/opt/homebrew/Cellar/python@3.10/3.10.9/Frameworks/Python.framework/Versions/3.10/lib/python3.10/ssl.py:1071\u001b[0m, in \u001b[0;36mSSLSocket._create\u001b[0;34m(cls, sock, server_side, do_handshake_on_connect, suppress_ragged_eofs, server_hostname, context, session)\u001b[0m\n\u001b[1;32m   1070\u001b[0m             \u001b[39mraise\u001b[39;00m \u001b[39mValueError\u001b[39;00m(\u001b[39m\"\u001b[39m\u001b[39mdo_handshake_on_connect should not be specified for non-blocking sockets\u001b[39m\u001b[39m\"\u001b[39m)\n\u001b[0;32m-> 1071\u001b[0m         \u001b[39mself\u001b[39;49m\u001b[39m.\u001b[39;49mdo_handshake()\n\u001b[1;32m   1072\u001b[0m \u001b[39mexcept\u001b[39;00m (\u001b[39mOSError\u001b[39;00m, \u001b[39mValueError\u001b[39;00m):\n",
      "File \u001b[0;32m/opt/homebrew/Cellar/python@3.10/3.10.9/Frameworks/Python.framework/Versions/3.10/lib/python3.10/ssl.py:1342\u001b[0m, in \u001b[0;36mSSLSocket.do_handshake\u001b[0;34m(self, block)\u001b[0m\n\u001b[1;32m   1341\u001b[0m         \u001b[39mself\u001b[39m\u001b[39m.\u001b[39msettimeout(\u001b[39mNone\u001b[39;00m)\n\u001b[0;32m-> 1342\u001b[0m     \u001b[39mself\u001b[39;49m\u001b[39m.\u001b[39;49m_sslobj\u001b[39m.\u001b[39;49mdo_handshake()\n\u001b[1;32m   1343\u001b[0m \u001b[39mfinally\u001b[39;00m:\n",
      "\u001b[0;31mSSLEOFError\u001b[0m: EOF occurred in violation of protocol (_ssl.c:997)",
      "\nDuring handling of the above exception, another exception occurred:\n",
      "\u001b[0;31mURLError\u001b[0m                                  Traceback (most recent call last)",
      "File \u001b[0;32m/opt/homebrew/lib/python3.10/site-packages/yt_dlp/extractor/common.py:807\u001b[0m, in \u001b[0;36mInfoExtractor._request_webpage\u001b[0;34m(self, url_or_request, video_id, note, errnote, fatal, data, headers, query, expected_status)\u001b[0m\n\u001b[1;32m    806\u001b[0m \u001b[39mtry\u001b[39;00m:\n\u001b[0;32m--> 807\u001b[0m     \u001b[39mreturn\u001b[39;00m \u001b[39mself\u001b[39;49m\u001b[39m.\u001b[39;49m_downloader\u001b[39m.\u001b[39;49murlopen(\u001b[39mself\u001b[39;49m\u001b[39m.\u001b[39;49m_create_request(url_or_request, data, headers, query))\n\u001b[1;32m    808\u001b[0m \u001b[39mexcept\u001b[39;00m network_exceptions \u001b[39mas\u001b[39;00m err:\n",
      "File \u001b[0;32m/opt/homebrew/lib/python3.10/site-packages/yt_dlp/YoutubeDL.py:3730\u001b[0m, in \u001b[0;36mYoutubeDL.urlopen\u001b[0;34m(self, req)\u001b[0m\n\u001b[1;32m   3729\u001b[0m     req \u001b[39m=\u001b[39m sanitized_Request(req)\n\u001b[0;32m-> 3730\u001b[0m \u001b[39mreturn\u001b[39;00m \u001b[39mself\u001b[39;49m\u001b[39m.\u001b[39;49m_opener\u001b[39m.\u001b[39;49mopen(req, timeout\u001b[39m=\u001b[39;49m\u001b[39mself\u001b[39;49m\u001b[39m.\u001b[39;49m_socket_timeout)\n",
      "File \u001b[0;32m/opt/homebrew/Cellar/python@3.10/3.10.9/Frameworks/Python.framework/Versions/3.10/lib/python3.10/urllib/request.py:519\u001b[0m, in \u001b[0;36mOpenerDirector.open\u001b[0;34m(self, fullurl, data, timeout)\u001b[0m\n\u001b[1;32m    518\u001b[0m sys\u001b[39m.\u001b[39maudit(\u001b[39m'\u001b[39m\u001b[39murllib.Request\u001b[39m\u001b[39m'\u001b[39m, req\u001b[39m.\u001b[39mfull_url, req\u001b[39m.\u001b[39mdata, req\u001b[39m.\u001b[39mheaders, req\u001b[39m.\u001b[39mget_method())\n\u001b[0;32m--> 519\u001b[0m response \u001b[39m=\u001b[39m \u001b[39mself\u001b[39;49m\u001b[39m.\u001b[39;49m_open(req, data)\n\u001b[1;32m    521\u001b[0m \u001b[39m# post-process response\u001b[39;00m\n",
      "File \u001b[0;32m/opt/homebrew/Cellar/python@3.10/3.10.9/Frameworks/Python.framework/Versions/3.10/lib/python3.10/urllib/request.py:536\u001b[0m, in \u001b[0;36mOpenerDirector._open\u001b[0;34m(self, req, data)\u001b[0m\n\u001b[1;32m    535\u001b[0m protocol \u001b[39m=\u001b[39m req\u001b[39m.\u001b[39mtype\n\u001b[0;32m--> 536\u001b[0m result \u001b[39m=\u001b[39m \u001b[39mself\u001b[39;49m\u001b[39m.\u001b[39;49m_call_chain(\u001b[39mself\u001b[39;49m\u001b[39m.\u001b[39;49mhandle_open, protocol, protocol \u001b[39m+\u001b[39;49m\n\u001b[1;32m    537\u001b[0m                           \u001b[39m'\u001b[39;49m\u001b[39m_open\u001b[39;49m\u001b[39m'\u001b[39;49m, req)\n\u001b[1;32m    538\u001b[0m \u001b[39mif\u001b[39;00m result:\n",
      "File \u001b[0;32m/opt/homebrew/Cellar/python@3.10/3.10.9/Frameworks/Python.framework/Versions/3.10/lib/python3.10/urllib/request.py:496\u001b[0m, in \u001b[0;36mOpenerDirector._call_chain\u001b[0;34m(self, chain, kind, meth_name, *args)\u001b[0m\n\u001b[1;32m    495\u001b[0m func \u001b[39m=\u001b[39m \u001b[39mgetattr\u001b[39m(handler, meth_name)\n\u001b[0;32m--> 496\u001b[0m result \u001b[39m=\u001b[39m func(\u001b[39m*\u001b[39;49margs)\n\u001b[1;32m    497\u001b[0m \u001b[39mif\u001b[39;00m result \u001b[39mis\u001b[39;00m \u001b[39mnot\u001b[39;00m \u001b[39mNone\u001b[39;00m:\n",
      "File \u001b[0;32m/opt/homebrew/lib/python3.10/site-packages/yt_dlp/utils.py:1535\u001b[0m, in \u001b[0;36mYoutubeDLHTTPSHandler.https_open\u001b[0;34m(self, req)\u001b[0m\n\u001b[1;32m   1534\u001b[0m \u001b[39mtry\u001b[39;00m:\n\u001b[0;32m-> 1535\u001b[0m     \u001b[39mreturn\u001b[39;00m \u001b[39mself\u001b[39;49m\u001b[39m.\u001b[39;49mdo_open(\n\u001b[1;32m   1536\u001b[0m         functools\u001b[39m.\u001b[39;49mpartial(_create_http_connection, \u001b[39mself\u001b[39;49m, conn_class, \u001b[39mTrue\u001b[39;49;00m), req, \u001b[39m*\u001b[39;49m\u001b[39m*\u001b[39;49mkwargs)\n\u001b[1;32m   1537\u001b[0m \u001b[39mexcept\u001b[39;00m urllib\u001b[39m.\u001b[39merror\u001b[39m.\u001b[39mURLError \u001b[39mas\u001b[39;00m e:\n",
      "File \u001b[0;32m/opt/homebrew/Cellar/python@3.10/3.10.9/Frameworks/Python.framework/Versions/3.10/lib/python3.10/urllib/request.py:1351\u001b[0m, in \u001b[0;36mAbstractHTTPHandler.do_open\u001b[0;34m(self, http_class, req, **http_conn_args)\u001b[0m\n\u001b[1;32m   1350\u001b[0m \u001b[39mexcept\u001b[39;00m \u001b[39mOSError\u001b[39;00m \u001b[39mas\u001b[39;00m err: \u001b[39m# timeout error\u001b[39;00m\n\u001b[0;32m-> 1351\u001b[0m     \u001b[39mraise\u001b[39;00m URLError(err)\n\u001b[1;32m   1352\u001b[0m r \u001b[39m=\u001b[39m h\u001b[39m.\u001b[39mgetresponse()\n",
      "\u001b[0;31mURLError\u001b[0m: <urlopen error EOF occurred in violation of protocol (_ssl.c:997)>",
      "\nDuring handling of the above exception, another exception occurred:\n",
      "\u001b[0;31mExtractorError\u001b[0m                            Traceback (most recent call last)",
      "File \u001b[0;32m/opt/homebrew/lib/python3.10/site-packages/yt_dlp/YoutubeDL.py:1502\u001b[0m, in \u001b[0;36mYoutubeDL._handle_extraction_exceptions.<locals>.wrapper\u001b[0;34m(self, *args, **kwargs)\u001b[0m\n\u001b[1;32m   1501\u001b[0m \u001b[39mtry\u001b[39;00m:\n\u001b[0;32m-> 1502\u001b[0m     \u001b[39mreturn\u001b[39;00m func(\u001b[39mself\u001b[39;49m, \u001b[39m*\u001b[39;49margs, \u001b[39m*\u001b[39;49m\u001b[39m*\u001b[39;49mkwargs)\n\u001b[1;32m   1503\u001b[0m \u001b[39mexcept\u001b[39;00m (DownloadCancelled, LazyList\u001b[39m.\u001b[39mIndexError, PagedList\u001b[39m.\u001b[39mIndexError):\n",
      "File \u001b[0;32m/opt/homebrew/lib/python3.10/site-packages/yt_dlp/YoutubeDL.py:1578\u001b[0m, in \u001b[0;36mYoutubeDL.__extract_info\u001b[0;34m(self, url, ie, download, extra_info, process)\u001b[0m\n\u001b[1;32m   1577\u001b[0m \u001b[39mtry\u001b[39;00m:\n\u001b[0;32m-> 1578\u001b[0m     ie_result \u001b[39m=\u001b[39m ie\u001b[39m.\u001b[39;49mextract(url)\n\u001b[1;32m   1579\u001b[0m \u001b[39mexcept\u001b[39;00m UserNotLive \u001b[39mas\u001b[39;00m e:\n",
      "File \u001b[0;32m/opt/homebrew/lib/python3.10/site-packages/yt_dlp/extractor/common.py:680\u001b[0m, in \u001b[0;36mInfoExtractor.extract\u001b[0;34m(self, url)\u001b[0m\n\u001b[1;32m    678\u001b[0m \u001b[39mself\u001b[39m\u001b[39m.\u001b[39mto_screen(\u001b[39m'\u001b[39m\u001b[39mExtracting URL: \u001b[39m\u001b[39m%s\u001b[39;00m\u001b[39m'\u001b[39m \u001b[39m%\u001b[39m (\n\u001b[1;32m    679\u001b[0m     url \u001b[39mif\u001b[39;00m \u001b[39mself\u001b[39m\u001b[39m.\u001b[39mget_param(\u001b[39m'\u001b[39m\u001b[39mverbose\u001b[39m\u001b[39m'\u001b[39m) \u001b[39melse\u001b[39;00m truncate_string(url, \u001b[39m100\u001b[39m, \u001b[39m20\u001b[39m)))\n\u001b[0;32m--> 680\u001b[0m ie_result \u001b[39m=\u001b[39m \u001b[39mself\u001b[39;49m\u001b[39m.\u001b[39;49m_real_extract(url)\n\u001b[1;32m    681\u001b[0m \u001b[39mif\u001b[39;00m ie_result \u001b[39mis\u001b[39;00m \u001b[39mNone\u001b[39;00m:\n",
      "File \u001b[0;32m/opt/homebrew/lib/python3.10/site-packages/yt_dlp/extractor/youtube.py:3856\u001b[0m, in \u001b[0;36mYoutubeIE._real_extract\u001b[0;34m(self, url)\u001b[0m\n\u001b[1;32m   3854\u001b[0m webpage_url \u001b[39m=\u001b[39m base_url \u001b[39m+\u001b[39m \u001b[39m'\u001b[39m\u001b[39mwatch?v=\u001b[39m\u001b[39m'\u001b[39m \u001b[39m+\u001b[39m video_id\n\u001b[0;32m-> 3856\u001b[0m webpage, master_ytcfg, player_responses, player_url \u001b[39m=\u001b[39m \u001b[39mself\u001b[39;49m\u001b[39m.\u001b[39;49m_download_player_responses(url, smuggled_data, video_id, webpage_url)\n\u001b[1;32m   3858\u001b[0m playability_statuses \u001b[39m=\u001b[39m traverse_obj(\n\u001b[1;32m   3859\u001b[0m     player_responses, (\u001b[39m.\u001b[39m\u001b[39m.\u001b[39m\u001b[39m.\u001b[39m, \u001b[39m'\u001b[39m\u001b[39mplayabilityStatus\u001b[39m\u001b[39m'\u001b[39m), expected_type\u001b[39m=\u001b[39m\u001b[39mdict\u001b[39m, default\u001b[39m=\u001b[39m[])\n",
      "File \u001b[0;32m/opt/homebrew/lib/python3.10/site-packages/yt_dlp/extractor/youtube.py:3824\u001b[0m, in \u001b[0;36mYoutubeIE._download_player_responses\u001b[0;34m(self, url, smuggled_data, video_id, webpage_url)\u001b[0m\n\u001b[1;32m   3822\u001b[0m master_ytcfg \u001b[39m=\u001b[39m \u001b[39mself\u001b[39m\u001b[39m.\u001b[39mextract_ytcfg(video_id, webpage) \u001b[39mor\u001b[39;00m \u001b[39mself\u001b[39m\u001b[39m.\u001b[39m_get_default_ytcfg()\n\u001b[0;32m-> 3824\u001b[0m player_responses, player_url \u001b[39m=\u001b[39m \u001b[39mself\u001b[39;49m\u001b[39m.\u001b[39;49m_extract_player_responses(\n\u001b[1;32m   3825\u001b[0m     \u001b[39mself\u001b[39;49m\u001b[39m.\u001b[39;49m_get_requested_clients(url, smuggled_data),\n\u001b[1;32m   3826\u001b[0m     video_id, webpage, master_ytcfg, smuggled_data)\n\u001b[1;32m   3828\u001b[0m \u001b[39mreturn\u001b[39;00m webpage, master_ytcfg, player_responses, player_url\n",
      "File \u001b[0;32m/opt/homebrew/lib/python3.10/site-packages/yt_dlp/extractor/youtube.py:3559\u001b[0m, in \u001b[0;36mYoutubeIE._extract_player_responses\u001b[0;34m(self, clients, video_id, webpage, master_ytcfg, smuggled_data)\u001b[0m\n\u001b[1;32m   3558\u001b[0m \u001b[39mif\u001b[39;00m \u001b[39mnot\u001b[39;00m \u001b[39mlen\u001b[39m(prs):\n\u001b[0;32m-> 3559\u001b[0m     \u001b[39mraise\u001b[39;00m last_error\n\u001b[1;32m   3560\u001b[0m \u001b[39mself\u001b[39m\u001b[39m.\u001b[39mreport_warning(last_error)\n",
      "File \u001b[0;32m/opt/homebrew/lib/python3.10/site-packages/yt_dlp/extractor/youtube.py:3530\u001b[0m, in \u001b[0;36mYoutubeIE._extract_player_responses\u001b[0;34m(self, clients, video_id, webpage, master_ytcfg, smuggled_data)\u001b[0m\n\u001b[1;32m   3529\u001b[0m \u001b[39mtry\u001b[39;00m:\n\u001b[0;32m-> 3530\u001b[0m     pr \u001b[39m=\u001b[39m initial_pr \u001b[39mif\u001b[39;00m client \u001b[39m==\u001b[39m \u001b[39m'\u001b[39m\u001b[39mweb\u001b[39m\u001b[39m'\u001b[39m \u001b[39mand\u001b[39;00m initial_pr \u001b[39melse\u001b[39;00m \u001b[39mself\u001b[39;49m\u001b[39m.\u001b[39;49m_extract_player_response(\n\u001b[1;32m   3531\u001b[0m         client, video_id, player_ytcfg \u001b[39mor\u001b[39;49;00m master_ytcfg, player_ytcfg, player_url \u001b[39mif\u001b[39;49;00m require_js_player \u001b[39melse\u001b[39;49;00m \u001b[39mNone\u001b[39;49;00m, initial_pr, smuggled_data)\n\u001b[1;32m   3532\u001b[0m \u001b[39mexcept\u001b[39;00m ExtractorError \u001b[39mas\u001b[39;00m e:\n",
      "File \u001b[0;32m/opt/homebrew/lib/python3.10/site-packages/yt_dlp/extractor/youtube.py:3450\u001b[0m, in \u001b[0;36mYoutubeIE._extract_player_response\u001b[0;34m(self, client, video_id, master_ytcfg, player_ytcfg, player_url, initial_pr, smuggled_data)\u001b[0m\n\u001b[1;32m   3449\u001b[0m yt_query\u001b[39m.\u001b[39mupdate(\u001b[39mself\u001b[39m\u001b[39m.\u001b[39m_generate_player_context(sts))\n\u001b[0;32m-> 3450\u001b[0m \u001b[39mreturn\u001b[39;00m \u001b[39mself\u001b[39;49m\u001b[39m.\u001b[39;49m_extract_response(\n\u001b[1;32m   3451\u001b[0m     item_id\u001b[39m=\u001b[39;49mvideo_id, ep\u001b[39m=\u001b[39;49m\u001b[39m'\u001b[39;49m\u001b[39mplayer\u001b[39;49m\u001b[39m'\u001b[39;49m, query\u001b[39m=\u001b[39;49myt_query,\n\u001b[1;32m   3452\u001b[0m     ytcfg\u001b[39m=\u001b[39;49mplayer_ytcfg, headers\u001b[39m=\u001b[39;49mheaders, fatal\u001b[39m=\u001b[39;49m\u001b[39mTrue\u001b[39;49;00m,\n\u001b[1;32m   3453\u001b[0m     default_client\u001b[39m=\u001b[39;49mclient,\n\u001b[1;32m   3454\u001b[0m     note\u001b[39m=\u001b[39;49m\u001b[39m'\u001b[39;49m\u001b[39mDownloading \u001b[39;49m\u001b[39m%s\u001b[39;49;00m\u001b[39m player API JSON\u001b[39;49m\u001b[39m'\u001b[39;49m \u001b[39m%\u001b[39;49m client\u001b[39m.\u001b[39;49mreplace(\u001b[39m'\u001b[39;49m\u001b[39m_\u001b[39;49m\u001b[39m'\u001b[39;49m, \u001b[39m'\u001b[39;49m\u001b[39m \u001b[39;49m\u001b[39m'\u001b[39;49m)\u001b[39m.\u001b[39;49mstrip()\n\u001b[1;32m   3455\u001b[0m ) \u001b[39mor\u001b[39;00m \u001b[39mNone\u001b[39;00m\n",
      "File \u001b[0;32m/opt/homebrew/lib/python3.10/site-packages/yt_dlp/extractor/youtube.py:863\u001b[0m, in \u001b[0;36mYoutubeBaseInfoExtractor._extract_response\u001b[0;34m(self, item_id, query, note, headers, ytcfg, check_get_keys, ep, fatal, api_hostname, default_client)\u001b[0m\n\u001b[1;32m    860\u001b[0m \u001b[39mdef\u001b[39;00m \u001b[39m_extract_response\u001b[39m(\u001b[39mself\u001b[39m, item_id, query, note\u001b[39m=\u001b[39m\u001b[39m'\u001b[39m\u001b[39mDownloading API JSON\u001b[39m\u001b[39m'\u001b[39m, headers\u001b[39m=\u001b[39m\u001b[39mNone\u001b[39;00m,\n\u001b[1;32m    861\u001b[0m                       ytcfg\u001b[39m=\u001b[39m\u001b[39mNone\u001b[39;00m, check_get_keys\u001b[39m=\u001b[39m\u001b[39mNone\u001b[39;00m, ep\u001b[39m=\u001b[39m\u001b[39m'\u001b[39m\u001b[39mbrowse\u001b[39m\u001b[39m'\u001b[39m, fatal\u001b[39m=\u001b[39m\u001b[39mTrue\u001b[39;00m, api_hostname\u001b[39m=\u001b[39m\u001b[39mNone\u001b[39;00m,\n\u001b[1;32m    862\u001b[0m                       default_client\u001b[39m=\u001b[39m\u001b[39m'\u001b[39m\u001b[39mweb\u001b[39m\u001b[39m'\u001b[39m):\n\u001b[0;32m--> 863\u001b[0m     \u001b[39mfor\u001b[39;00m retry \u001b[39min\u001b[39;00m \u001b[39mself\u001b[39m\u001b[39m.\u001b[39mRetryManager():\n\u001b[1;32m    864\u001b[0m         \u001b[39mtry\u001b[39;00m:\n",
      "File \u001b[0;32m/opt/homebrew/lib/python3.10/site-packages/yt_dlp/utils.py:6023\u001b[0m, in \u001b[0;36mRetryManager.__iter__\u001b[0;34m(self)\u001b[0m\n\u001b[1;32m   6022\u001b[0m \u001b[39mif\u001b[39;00m \u001b[39mself\u001b[39m\u001b[39m.\u001b[39merror:\n\u001b[0;32m-> 6023\u001b[0m     \u001b[39mself\u001b[39;49m\u001b[39m.\u001b[39;49merror_callback(\u001b[39mself\u001b[39;49m\u001b[39m.\u001b[39;49merror, \u001b[39mself\u001b[39;49m\u001b[39m.\u001b[39;49mattempt, \u001b[39mself\u001b[39;49m\u001b[39m.\u001b[39;49mretries)\n",
      "File \u001b[0;32m/opt/homebrew/lib/python3.10/site-packages/yt_dlp/extractor/common.py:3672\u001b[0m, in \u001b[0;36mInfoExtractor._error_or_warning\u001b[0;34m(self, err, _count, _retries, fatal)\u001b[0m\n\u001b[1;32m   3671\u001b[0m \u001b[39mdef\u001b[39;00m \u001b[39m_error_or_warning\u001b[39m(\u001b[39mself\u001b[39m, err, _count\u001b[39m=\u001b[39m\u001b[39mNone\u001b[39;00m, _retries\u001b[39m=\u001b[39m\u001b[39m0\u001b[39m, \u001b[39m*\u001b[39m, fatal\u001b[39m=\u001b[39m\u001b[39mTrue\u001b[39;00m):\n\u001b[0;32m-> 3672\u001b[0m     RetryManager\u001b[39m.\u001b[39;49mreport_retry(\n\u001b[1;32m   3673\u001b[0m         err, _count \u001b[39mor\u001b[39;49;00m \u001b[39mint\u001b[39;49m(fatal), _retries,\n\u001b[1;32m   3674\u001b[0m         info\u001b[39m=\u001b[39;49m\u001b[39mself\u001b[39;49m\u001b[39m.\u001b[39;49mto_screen, warn\u001b[39m=\u001b[39;49m\u001b[39mself\u001b[39;49m\u001b[39m.\u001b[39;49mreport_warning, error\u001b[39m=\u001b[39;49m\u001b[39mNone\u001b[39;49;00m \u001b[39mif\u001b[39;49;00m fatal \u001b[39melse\u001b[39;49;00m \u001b[39mself\u001b[39;49m\u001b[39m.\u001b[39;49mreport_warning,\n\u001b[1;32m   3675\u001b[0m         sleep_func\u001b[39m=\u001b[39;49m\u001b[39mself\u001b[39;49m\u001b[39m.\u001b[39;49mget_param(\u001b[39m'\u001b[39;49m\u001b[39mretry_sleep_functions\u001b[39;49m\u001b[39m'\u001b[39;49m, {})\u001b[39m.\u001b[39;49mget(\u001b[39m'\u001b[39;49m\u001b[39mextractor\u001b[39;49m\u001b[39m'\u001b[39;49m))\n",
      "File \u001b[0;32m/opt/homebrew/lib/python3.10/site-packages/yt_dlp/utils.py:6031\u001b[0m, in \u001b[0;36mRetryManager.report_retry\u001b[0;34m(e, count, retries, sleep_func, info, warn, error, suffix)\u001b[0m\n\u001b[1;32m   6030\u001b[0m         \u001b[39mreturn\u001b[39;00m error(\u001b[39mf\u001b[39m\u001b[39m'\u001b[39m\u001b[39m{\u001b[39;00me\u001b[39m}\u001b[39;00m\u001b[39m. Giving up after \u001b[39m\u001b[39m{\u001b[39;00mcount\u001b[39m \u001b[39m\u001b[39m-\u001b[39m\u001b[39m \u001b[39m\u001b[39m1\u001b[39m\u001b[39m}\u001b[39;00m\u001b[39m retries\u001b[39m\u001b[39m'\u001b[39m) \u001b[39mif\u001b[39;00m count \u001b[39m>\u001b[39m \u001b[39m1\u001b[39m \u001b[39melse\u001b[39;00m error(\u001b[39mstr\u001b[39m(e))\n\u001b[0;32m-> 6031\u001b[0m     \u001b[39mraise\u001b[39;00m e\n\u001b[1;32m   6033\u001b[0m \u001b[39mif\u001b[39;00m \u001b[39mnot\u001b[39;00m count:\n",
      "File \u001b[0;32m/opt/homebrew/lib/python3.10/site-packages/yt_dlp/extractor/youtube.py:865\u001b[0m, in \u001b[0;36mYoutubeBaseInfoExtractor._extract_response\u001b[0;34m(self, item_id, query, note, headers, ytcfg, check_get_keys, ep, fatal, api_hostname, default_client)\u001b[0m\n\u001b[1;32m    864\u001b[0m \u001b[39mtry\u001b[39;00m:\n\u001b[0;32m--> 865\u001b[0m     response \u001b[39m=\u001b[39m \u001b[39mself\u001b[39;49m\u001b[39m.\u001b[39;49m_call_api(\n\u001b[1;32m    866\u001b[0m         ep\u001b[39m=\u001b[39;49mep, fatal\u001b[39m=\u001b[39;49m\u001b[39mTrue\u001b[39;49;00m, headers\u001b[39m=\u001b[39;49mheaders,\n\u001b[1;32m    867\u001b[0m         video_id\u001b[39m=\u001b[39;49mitem_id, query\u001b[39m=\u001b[39;49mquery, note\u001b[39m=\u001b[39;49mnote,\n\u001b[1;32m    868\u001b[0m         context\u001b[39m=\u001b[39;49m\u001b[39mself\u001b[39;49m\u001b[39m.\u001b[39;49m_extract_context(ytcfg, default_client),\n\u001b[1;32m    869\u001b[0m         api_key\u001b[39m=\u001b[39;49m\u001b[39mself\u001b[39;49m\u001b[39m.\u001b[39;49m_extract_api_key(ytcfg, default_client),\n\u001b[1;32m    870\u001b[0m         api_hostname\u001b[39m=\u001b[39;49mapi_hostname, default_client\u001b[39m=\u001b[39;49mdefault_client)\n\u001b[1;32m    871\u001b[0m \u001b[39mexcept\u001b[39;00m ExtractorError \u001b[39mas\u001b[39;00m e:\n",
      "File \u001b[0;32m/opt/homebrew/lib/python3.10/site-packages/yt_dlp/extractor/youtube.py:541\u001b[0m, in \u001b[0;36mYoutubeBaseInfoExtractor._call_api\u001b[0;34m(self, ep, query, video_id, fatal, headers, note, errnote, context, api_key, api_hostname, default_client)\u001b[0m\n\u001b[1;32m    539\u001b[0m api_key \u001b[39m=\u001b[39m (\u001b[39mself\u001b[39m\u001b[39m.\u001b[39m_configuration_arg(\u001b[39m'\u001b[39m\u001b[39minnertube_key\u001b[39m\u001b[39m'\u001b[39m, [\u001b[39m'\u001b[39m\u001b[39m'\u001b[39m], ie_key\u001b[39m=\u001b[39mYoutubeIE\u001b[39m.\u001b[39mie_key(), casesense\u001b[39m=\u001b[39m\u001b[39mTrue\u001b[39;00m)[\u001b[39m0\u001b[39m]\n\u001b[1;32m    540\u001b[0m            \u001b[39mor\u001b[39;00m api_key \u001b[39mor\u001b[39;00m \u001b[39mself\u001b[39m\u001b[39m.\u001b[39m_extract_api_key(default_client\u001b[39m=\u001b[39mdefault_client))\n\u001b[0;32m--> 541\u001b[0m \u001b[39mreturn\u001b[39;00m \u001b[39mself\u001b[39;49m\u001b[39m.\u001b[39;49m_download_json(\n\u001b[1;32m    542\u001b[0m     \u001b[39mf\u001b[39;49m\u001b[39m'\u001b[39;49m\u001b[39mhttps://\u001b[39;49m\u001b[39m{\u001b[39;49;00m\u001b[39mself\u001b[39;49m\u001b[39m.\u001b[39;49m_select_api_hostname(api_hostname,\u001b[39m \u001b[39;49mdefault_client)\u001b[39m}\u001b[39;49;00m\u001b[39m/youtubei/v1/\u001b[39;49m\u001b[39m{\u001b[39;49;00mep\u001b[39m}\u001b[39;49;00m\u001b[39m'\u001b[39;49m,\n\u001b[1;32m    543\u001b[0m     video_id\u001b[39m=\u001b[39;49mvideo_id, fatal\u001b[39m=\u001b[39;49mfatal, note\u001b[39m=\u001b[39;49mnote, errnote\u001b[39m=\u001b[39;49merrnote,\n\u001b[1;32m    544\u001b[0m     data\u001b[39m=\u001b[39;49mjson\u001b[39m.\u001b[39;49mdumps(data)\u001b[39m.\u001b[39;49mencode(\u001b[39m'\u001b[39;49m\u001b[39mutf8\u001b[39;49m\u001b[39m'\u001b[39;49m), headers\u001b[39m=\u001b[39;49mreal_headers,\n\u001b[1;32m    545\u001b[0m     query\u001b[39m=\u001b[39;49m{\u001b[39m'\u001b[39;49m\u001b[39mkey\u001b[39;49m\u001b[39m'\u001b[39;49m: api_key, \u001b[39m'\u001b[39;49m\u001b[39mprettyPrint\u001b[39;49m\u001b[39m'\u001b[39;49m: \u001b[39m'\u001b[39;49m\u001b[39mfalse\u001b[39;49m\u001b[39m'\u001b[39;49m})\n",
      "File \u001b[0;32m/opt/homebrew/lib/python3.10/site-packages/yt_dlp/extractor/common.py:1034\u001b[0m, in \u001b[0;36mInfoExtractor.__create_download_methods.<locals>.download_content\u001b[0;34m(self, url_or_request, video_id, note, errnote, transform_source, fatal, encoding, data, headers, query, expected_status)\u001b[0m\n\u001b[1;32m   1033\u001b[0m \u001b[39m# The method is fetched by name so subclasses can override _download_..._handle\u001b[39;00m\n\u001b[0;32m-> 1034\u001b[0m res \u001b[39m=\u001b[39m \u001b[39mgetattr\u001b[39;49m(\u001b[39mself\u001b[39;49m, download_handle\u001b[39m.\u001b[39;49m\u001b[39m__name__\u001b[39;49m)(url_or_request, video_id, \u001b[39m*\u001b[39;49m\u001b[39m*\u001b[39;49mkwargs)\n\u001b[1;32m   1035\u001b[0m \u001b[39mreturn\u001b[39;00m res \u001b[39mif\u001b[39;00m res \u001b[39mis\u001b[39;00m \u001b[39mFalse\u001b[39;00m \u001b[39melse\u001b[39;00m res[\u001b[39m0\u001b[39m]\n",
      "File \u001b[0;32m/opt/homebrew/lib/python3.10/site-packages/yt_dlp/extractor/common.py:998\u001b[0m, in \u001b[0;36mInfoExtractor.__create_download_methods.<locals>.download_handle\u001b[0;34m(self, url_or_request, video_id, note, errnote, transform_source, fatal, encoding, data, headers, query, expected_status)\u001b[0m\n\u001b[1;32m    996\u001b[0m \u001b[39mdef\u001b[39;00m \u001b[39mdownload_handle\u001b[39m(\u001b[39mself\u001b[39m, url_or_request, video_id, note\u001b[39m=\u001b[39mnote, errnote\u001b[39m=\u001b[39merrnote, transform_source\u001b[39m=\u001b[39m\u001b[39mNone\u001b[39;00m,\n\u001b[1;32m    997\u001b[0m                     fatal\u001b[39m=\u001b[39m\u001b[39mTrue\u001b[39;00m, encoding\u001b[39m=\u001b[39m\u001b[39mNone\u001b[39;00m, data\u001b[39m=\u001b[39m\u001b[39mNone\u001b[39;00m, headers\u001b[39m=\u001b[39m{}, query\u001b[39m=\u001b[39m{}, expected_status\u001b[39m=\u001b[39m\u001b[39mNone\u001b[39;00m):\n\u001b[0;32m--> 998\u001b[0m     res \u001b[39m=\u001b[39m \u001b[39mself\u001b[39;49m\u001b[39m.\u001b[39;49m_download_webpage_handle(\n\u001b[1;32m    999\u001b[0m         url_or_request, video_id, note\u001b[39m=\u001b[39;49mnote, errnote\u001b[39m=\u001b[39;49merrnote, fatal\u001b[39m=\u001b[39;49mfatal, encoding\u001b[39m=\u001b[39;49mencoding,\n\u001b[1;32m   1000\u001b[0m         data\u001b[39m=\u001b[39;49mdata, headers\u001b[39m=\u001b[39;49mheaders, query\u001b[39m=\u001b[39;49mquery, expected_status\u001b[39m=\u001b[39;49mexpected_status)\n\u001b[1;32m   1001\u001b[0m     \u001b[39mif\u001b[39;00m res \u001b[39mis\u001b[39;00m \u001b[39mFalse\u001b[39;00m:\n",
      "File \u001b[0;32m/opt/homebrew/lib/python3.10/site-packages/yt_dlp/extractor/common.py:868\u001b[0m, in \u001b[0;36mInfoExtractor._download_webpage_handle\u001b[0;34m(self, url_or_request, video_id, note, errnote, fatal, encoding, data, headers, query, expected_status)\u001b[0m\n\u001b[1;32m    866\u001b[0m     url_or_request \u001b[39m=\u001b[39m url_or_request\u001b[39m.\u001b[39mpartition(\u001b[39m'\u001b[39m\u001b[39m#\u001b[39m\u001b[39m'\u001b[39m)[\u001b[39m0\u001b[39m]\n\u001b[0;32m--> 868\u001b[0m urlh \u001b[39m=\u001b[39m \u001b[39mself\u001b[39;49m\u001b[39m.\u001b[39;49m_request_webpage(url_or_request, video_id, note, errnote, fatal, data\u001b[39m=\u001b[39;49mdata, headers\u001b[39m=\u001b[39;49mheaders, query\u001b[39m=\u001b[39;49mquery, expected_status\u001b[39m=\u001b[39;49mexpected_status)\n\u001b[1;32m    869\u001b[0m \u001b[39mif\u001b[39;00m urlh \u001b[39mis\u001b[39;00m \u001b[39mFalse\u001b[39;00m:\n",
      "File \u001b[0;32m/opt/homebrew/lib/python3.10/site-packages/yt_dlp/extractor/common.py:825\u001b[0m, in \u001b[0;36mInfoExtractor._request_webpage\u001b[0;34m(self, url_or_request, video_id, note, errnote, fatal, data, headers, query, expected_status)\u001b[0m\n\u001b[1;32m    824\u001b[0m \u001b[39mif\u001b[39;00m fatal:\n\u001b[0;32m--> 825\u001b[0m     \u001b[39mraise\u001b[39;00m ExtractorError(errmsg, cause\u001b[39m=\u001b[39merr)\n\u001b[1;32m    826\u001b[0m \u001b[39melse\u001b[39;00m:\n",
      "\u001b[0;31mExtractorError\u001b[0m: [youtube] 57OU18cogJI: Unable to download API page: <urlopen error EOF occurred in violation of protocol (_ssl.c:997)> (caused by URLError(SSLEOFError(8, 'EOF occurred in violation of protocol (_ssl.c:997)')))",
      "\nDuring handling of the above exception, another exception occurred:\n",
      "\u001b[0;31mDownloadError\u001b[0m                             Traceback (most recent call last)",
      "Cell \u001b[0;32mIn[7], line 15\u001b[0m\n\u001b[1;32m      5\u001b[0m ydl_opts \u001b[39m=\u001b[39m {\n\u001b[1;32m      6\u001b[0m     \u001b[39m'\u001b[39m\u001b[39mformat\u001b[39m\u001b[39m'\u001b[39m: \u001b[39m'\u001b[39m\u001b[39mm4a/bestaudio/best\u001b[39m\u001b[39m'\u001b[39m,\n\u001b[1;32m      7\u001b[0m     \u001b[39m'\u001b[39m\u001b[39mpostprocessors\u001b[39m\u001b[39m'\u001b[39m: [{\n\u001b[0;32m   (...)\u001b[0m\n\u001b[1;32m     11\u001b[0m     \u001b[39m'\u001b[39m\u001b[39mouttmpl\u001b[39m\u001b[39m'\u001b[39m: \u001b[39m'\u001b[39m\u001b[39m./tmp/foo_\u001b[39m\u001b[39m%(title)s\u001b[39;00m\u001b[39m-\u001b[39m\u001b[39m%(id)s\u001b[39;00m\u001b[39m.\u001b[39m\u001b[39m%(ext)s\u001b[39;00m\u001b[39m'\u001b[39m\n\u001b[1;32m     12\u001b[0m }\n\u001b[1;32m     14\u001b[0m \u001b[39mwith\u001b[39;00m yt_dlp\u001b[39m.\u001b[39mYoutubeDL(ydl_opts) \u001b[39mas\u001b[39;00m ydl:\n\u001b[0;32m---> 15\u001b[0m     error_code \u001b[39m=\u001b[39m ydl\u001b[39m.\u001b[39;49mdownload(URLS)\n",
      "File \u001b[0;32m/opt/homebrew/lib/python3.10/site-packages/yt_dlp/YoutubeDL.py:3358\u001b[0m, in \u001b[0;36mYoutubeDL.download\u001b[0;34m(self, url_list)\u001b[0m\n\u001b[1;32m   3355\u001b[0m     \u001b[39mraise\u001b[39;00m SameFileError(outtmpl)\n\u001b[1;32m   3357\u001b[0m \u001b[39mfor\u001b[39;00m url \u001b[39min\u001b[39;00m url_list:\n\u001b[0;32m-> 3358\u001b[0m     \u001b[39mself\u001b[39;49m\u001b[39m.\u001b[39;49m__download_wrapper(\u001b[39mself\u001b[39;49m\u001b[39m.\u001b[39;49mextract_info)(\n\u001b[1;32m   3359\u001b[0m         url, force_generic_extractor\u001b[39m=\u001b[39;49m\u001b[39mself\u001b[39;49m\u001b[39m.\u001b[39;49mparams\u001b[39m.\u001b[39;49mget(\u001b[39m'\u001b[39;49m\u001b[39mforce_generic_extractor\u001b[39;49m\u001b[39m'\u001b[39;49m, \u001b[39mFalse\u001b[39;49;00m))\n\u001b[1;32m   3361\u001b[0m \u001b[39mreturn\u001b[39;00m \u001b[39mself\u001b[39m\u001b[39m.\u001b[39m_download_retcode\n",
      "File \u001b[0;32m/opt/homebrew/lib/python3.10/site-packages/yt_dlp/YoutubeDL.py:3333\u001b[0m, in \u001b[0;36mYoutubeDL.__download_wrapper.<locals>.wrapper\u001b[0;34m(*args, **kwargs)\u001b[0m\n\u001b[1;32m   3330\u001b[0m \u001b[39m@functools\u001b[39m\u001b[39m.\u001b[39mwraps(func)\n\u001b[1;32m   3331\u001b[0m \u001b[39mdef\u001b[39;00m \u001b[39mwrapper\u001b[39m(\u001b[39m*\u001b[39margs, \u001b[39m*\u001b[39m\u001b[39m*\u001b[39mkwargs):\n\u001b[1;32m   3332\u001b[0m     \u001b[39mtry\u001b[39;00m:\n\u001b[0;32m-> 3333\u001b[0m         res \u001b[39m=\u001b[39m func(\u001b[39m*\u001b[39;49margs, \u001b[39m*\u001b[39;49m\u001b[39m*\u001b[39;49mkwargs)\n\u001b[1;32m   3334\u001b[0m     \u001b[39mexcept\u001b[39;00m UnavailableVideoError \u001b[39mas\u001b[39;00m e:\n\u001b[1;32m   3335\u001b[0m         \u001b[39mself\u001b[39m\u001b[39m.\u001b[39mreport_error(e)\n",
      "File \u001b[0;32m/opt/homebrew/lib/python3.10/site-packages/yt_dlp/YoutubeDL.py:1491\u001b[0m, in \u001b[0;36mYoutubeDL.extract_info\u001b[0;34m(self, url, download, ie_key, extra_info, process, force_generic_extractor)\u001b[0m\n\u001b[1;32m   1489\u001b[0m             \u001b[39mraise\u001b[39;00m ExistingVideoReached()\n\u001b[1;32m   1490\u001b[0m         \u001b[39mbreak\u001b[39;00m\n\u001b[0;32m-> 1491\u001b[0m     \u001b[39mreturn\u001b[39;00m \u001b[39mself\u001b[39;49m\u001b[39m.\u001b[39;49m__extract_info(url, \u001b[39mself\u001b[39;49m\u001b[39m.\u001b[39;49mget_info_extractor(key), download, extra_info, process)\n\u001b[1;32m   1492\u001b[0m \u001b[39melse\u001b[39;00m:\n\u001b[1;32m   1493\u001b[0m     extractors_restricted \u001b[39m=\u001b[39m \u001b[39mself\u001b[39m\u001b[39m.\u001b[39mparams\u001b[39m.\u001b[39mget(\u001b[39m'\u001b[39m\u001b[39mallowed_extractors\u001b[39m\u001b[39m'\u001b[39m) \u001b[39mnot\u001b[39;00m \u001b[39min\u001b[39;00m (\u001b[39mNone\u001b[39;00m, [\u001b[39m'\u001b[39m\u001b[39mdefault\u001b[39m\u001b[39m'\u001b[39m])\n",
      "File \u001b[0;32m/opt/homebrew/lib/python3.10/site-packages/yt_dlp/YoutubeDL.py:1520\u001b[0m, in \u001b[0;36mYoutubeDL._handle_extraction_exceptions.<locals>.wrapper\u001b[0;34m(self, *args, **kwargs)\u001b[0m\n\u001b[1;32m   1518\u001b[0m     \u001b[39mself\u001b[39m\u001b[39m.\u001b[39mreport_error(msg)\n\u001b[1;32m   1519\u001b[0m \u001b[39mexcept\u001b[39;00m ExtractorError \u001b[39mas\u001b[39;00m e:  \u001b[39m# An error we somewhat expected\u001b[39;00m\n\u001b[0;32m-> 1520\u001b[0m     \u001b[39mself\u001b[39;49m\u001b[39m.\u001b[39;49mreport_error(\u001b[39mstr\u001b[39;49m(e), e\u001b[39m.\u001b[39;49mformat_traceback())\n\u001b[1;32m   1521\u001b[0m \u001b[39mexcept\u001b[39;00m \u001b[39mException\u001b[39;00m \u001b[39mas\u001b[39;00m e:\n\u001b[1;32m   1522\u001b[0m     \u001b[39mif\u001b[39;00m \u001b[39mself\u001b[39m\u001b[39m.\u001b[39mparams\u001b[39m.\u001b[39mget(\u001b[39m'\u001b[39m\u001b[39mignoreerrors\u001b[39m\u001b[39m'\u001b[39m):\n",
      "File \u001b[0;32m/opt/homebrew/lib/python3.10/site-packages/yt_dlp/YoutubeDL.py:1012\u001b[0m, in \u001b[0;36mYoutubeDL.report_error\u001b[0;34m(self, message, *args, **kwargs)\u001b[0m\n\u001b[1;32m   1007\u001b[0m \u001b[39mdef\u001b[39;00m \u001b[39mreport_error\u001b[39m(\u001b[39mself\u001b[39m, message, \u001b[39m*\u001b[39margs, \u001b[39m*\u001b[39m\u001b[39m*\u001b[39mkwargs):\n\u001b[1;32m   1008\u001b[0m \u001b[39m    \u001b[39m\u001b[39m'''\u001b[39;00m\n\u001b[1;32m   1009\u001b[0m \u001b[39m    Do the same as trouble, but prefixes the message with 'ERROR:', colored\u001b[39;00m\n\u001b[1;32m   1010\u001b[0m \u001b[39m    in red if stderr is a tty file.\u001b[39;00m\n\u001b[1;32m   1011\u001b[0m \u001b[39m    '''\u001b[39;00m\n\u001b[0;32m-> 1012\u001b[0m     \u001b[39mself\u001b[39;49m\u001b[39m.\u001b[39;49mtrouble(\u001b[39mf\u001b[39;49m\u001b[39m'\u001b[39;49m\u001b[39m{\u001b[39;49;00m\u001b[39mself\u001b[39;49m\u001b[39m.\u001b[39;49m_format_err(\u001b[39m\"\u001b[39;49m\u001b[39mERROR:\u001b[39;49m\u001b[39m\"\u001b[39;49m,\u001b[39m \u001b[39;49m\u001b[39mself\u001b[39;49m\u001b[39m.\u001b[39;49mStyles\u001b[39m.\u001b[39;49mERROR)\u001b[39m}\u001b[39;49;00m\u001b[39m \u001b[39;49m\u001b[39m{\u001b[39;49;00mmessage\u001b[39m}\u001b[39;49;00m\u001b[39m'\u001b[39;49m, \u001b[39m*\u001b[39;49margs, \u001b[39m*\u001b[39;49m\u001b[39m*\u001b[39;49mkwargs)\n",
      "File \u001b[0;32m/opt/homebrew/lib/python3.10/site-packages/yt_dlp/YoutubeDL.py:952\u001b[0m, in \u001b[0;36mYoutubeDL.trouble\u001b[0;34m(self, message, tb, is_error)\u001b[0m\n\u001b[1;32m    950\u001b[0m     \u001b[39melse\u001b[39;00m:\n\u001b[1;32m    951\u001b[0m         exc_info \u001b[39m=\u001b[39m sys\u001b[39m.\u001b[39mexc_info()\n\u001b[0;32m--> 952\u001b[0m     \u001b[39mraise\u001b[39;00m DownloadError(message, exc_info)\n\u001b[1;32m    953\u001b[0m \u001b[39mself\u001b[39m\u001b[39m.\u001b[39m_download_retcode \u001b[39m=\u001b[39m \u001b[39m1\u001b[39m\n",
      "\u001b[0;31mDownloadError\u001b[0m: ERROR: [youtube] 57OU18cogJI: Unable to download API page: <urlopen error EOF occurred in violation of protocol (_ssl.c:997)> (caused by URLError(SSLEOFError(8, 'EOF occurred in violation of protocol (_ssl.c:997)')))"
     ]
    }
   ],
   "source": [
    "import yt_dlp\n",
    "\n",
    "URLS = ['https://www.youtube.com/watch?v=57OU18cogJI']\n",
    "\n",
    "ydl_opts = {\n",
    "    'format': 'm4a/bestaudio/best',\n",
    "    'postprocessors': [{\n",
    "        'key': 'FFmpegExtractAudio',\n",
    "        'preferredcodec': 'm4a',\n",
    "    }],\n",
    "    'outtmpl': './tmp/foo_%(title)s-%(id)s.%(ext)s'\n",
    "}\n",
    "\n",
    "with yt_dlp.YoutubeDL(ydl_opts) as ydl:\n",
    "    error_code = ydl.download(URLS)"
   ]
  },
  {
   "cell_type": "code",
   "execution_count": 13,
   "id": "faa60d9e-147d-4914-b94e-b6ce864ca384",
   "metadata": {},
   "outputs": [
    {
     "name": "stderr",
     "output_type": "stream",
     "text": [
      "/opt/homebrew/lib/python3.10/site-packages/tqdm/auto.py:22: TqdmWarning: IProgress not found. Please update jupyter and ipywidgets. See https://ipywidgets.readthedocs.io/en/stable/user_install.html\n",
      "  from .autonotebook import tqdm as notebook_tqdm\n",
      "/opt/homebrew/lib/python3.10/site-packages/whisper/transcribe.py:78: UserWarning: FP16 is not supported on CPU; using FP32 instead\n",
      "  warnings.warn(\"FP16 is not supported on CPU; using FP32 instead\")\n"
     ]
    }
   ],
   "source": [
    "import whisper\n",
    "import os\n",
    "\n",
    "model = whisper.load_model(\"base\")\n",
    "\n",
    "podcasts_to_analyze = []\n",
    "\n",
    "for file in os.listdir(\"./tmp\"):\n",
    "    # Skip if the file is not a video or audio file\n",
    "    if not file.endswith(\".m4a\"):\n",
    "        continue\n",
    "    \n",
    "    file_path = os.path.join(\"./tmp\", file)\n",
    "    result = model.transcribe(file_path)\n",
    "    podcasts_to_analyze.append(result[\"text\"])"
   ]
  },
  {
   "cell_type": "code",
   "execution_count": null,
   "id": "baf49360",
   "metadata": {},
   "outputs": [
    {
     "name": "stdout",
     "output_type": "stream",
     "text": [
      "[\" So appreciate it. Thanks for having me. So Sam, you also very nicely came to an event that happened to be right here three years ago. Yeah, I remember. What's been happening? Um, open the eye mostly. Yeah, it's just taken up a lot of my time, but it's super great. I think we're doing a lot of stuff we're really proud of. I mean, I'm half kidding, obviously. But you know, you've been at the center of the startup conversation for almost 10 years since you had taken over as the president of a way. Combinator. Wow, that has been 10 years. Yeah, or something like that. Almost. Paul Graham once said that Sam is exceedingly good at becoming powerful, which I think is very funny. You are now at the center of the national conversation. I mean, to an extent that I think, you know, sort of has taken us all collectively back. I'm just wondering, how is that for you? Are you like springing out of bed? Or are you like waking up, dreading, you know, the headlines? I saw that you had posted. I don't read the news. I honestly, I think if I, and I don't really do stuff like this much, at all, I think if I could like just stop trolling on Twitter, which I really love for some reason I can't explain. I think I would just like really accomplish my goal of not, you know, being very quiet. But Twitter is fun. Well, I saw that you posted a burping emoji yesterday. Without comment, and I wondered if that had anything to do with. No, I had a bad morning for like extremely pedestrian reasons. Like my house flooded. I got in a car crash. Oh, God. You know, I'm allowed to use Twitter like a regular person. Sure, absolutely. Oh, well, I mean, we're not tired of talking about Twitter, but any thoughts about, you know, your friend is running it. How do you think things are going? I think it's going to be fine. I remember that night where everyone was like, get your tweets off right now. Say you're goodbyes. I heard from my like, you know, brothers, roommates, fathers, uncles, whatever, that like, it's all going to melt down to night. And it's all over. And, you know, it's still here. Right. I think it's good. Because they went to Mass and then they saw what the alternative was. I think it's, I think it's, I would be making some different decisions. But also I have like unbelievable respect for Elon. I wouldn't bet against him. And I think it's most likely going to be fine. Well, you know, there are a lot of reporters who have been generating the coverage that we've all been reading. So I was going to say if there's anything that you want to confirm or correct, I'm sure they would be delighted. But in the meantime, you know, strictly VC is really about investors and startup founders. And I think in the same way that people are very interested in OpenAI because of your involvement. They are really interested in your work as an investor. So I thought just to start, if it's okay with you, we could kind of talk a little bit about that aspect of your life. Starting with... Sure, but can I correct one thing? Sure. I don't think people are interested in OpenAI because of my involvement. I think OpenAI has managed to pull together the most talent-dense researchers and engineers in the field of AI who have done just like incredible work. And I think what people are interested in is like OpenAI from a cold start a few years ago has managed to do this thing that I think is going to be incredibly important to the next many decades at least. Many decades at least of society and how we all live our lives and what we do and what's possible. And I think it's going to be tremendously good. But the reason people, I think, are interested in OpenAI is because of the work that those people do. We've managed to make a research lab that has been able to deliver some cool stuff and I think we'll deliver a lot more cool things. So just wanted to... Absolutely. And you have to... you are one of the best storytellers in Silicon Valley, possibly the business, I think that counts for a lot. So I'm going to argue with you there. But how many investments do you have, large, you know, like all together? Active. I'm trying to get a sense for... I mean counting all the YC ones, like a few thousand personal ones... I would guess 400. Wow, really? Well, I've been doing this for a long time. Yeah, absolutely. I mean, and everyone's one I see, like a really gigantic deal. What makes a SAM Altman deal? Um... I try to just do things that I'm interested in at this point. One of the things I have realized is all of the companies I think I have added a lot of value to are the ones that I sort of like think about in my free time on a hike or whatever. And then techs the founders say, hey, I have this idea for you. And I have learned kind of like what those are and the ones that are not. I think like every founder deserves an investor who is like going to think about them while they're hiking. And so I've tried to like hold myself to the stuff that I really love, which tends to be like the hard tech years of R&D, capital intensive, or like, sort of like risky research. And then, but if it works, it really works. Well, one of the investments that I think is so interesting and obviously it's very interesting to you too is Helian. Yeah. That company announced you, so you've been investing in Helian since 2015. Yeah. But it announced a $500 million investment last year and you participated, you wrote them a $375 million check, which I think probably surprised people because there's not that many people who can write a $375 million check. Or not that many people who would like do it into like one risky fusion company. Well, I mean, I wanted to ask, so you mentioned your icy companies and I guess in the aggregate maybe that's the answer. I just wondered, like, which have been your most successful investments to date? I mean, probably on a multiple spaces, definitely on a multiple spaces, Stripe. And also, I think that was like my second investment ever. So it seemed like a lot easier. This was also a time when evaluations were different. It was great. But probably that one on a multiple spaces. But then, you know, I've been doing this for like 17 years, I guess. So there's been a lot of really good ones. And like super grateful to have been in Silicon Valley at what was such like a magical time. Helian is like more than an investment. I mean, that's the other thing besides opening an iceman, a lot of time on. And just super excited about what's going to happen there. So tell me about it because I don't really, I mean, I don't understand this. I saw what happened at Lawrence Livermore last month. Yeah. I wondered what you thought of that. It's a very different approach. Maybe if you can sort of explain since you're the expert. Super happy for them. I think it's like a very cool scientific result. As they themselves said, I don't think it'll be commercially relevant. And that's what I'm excited about. Not sort of getting fusion to work in a lab, although that is cool too. But building a system that will work at a super low cost. So if you look at the previous energy transitions, if you can get the cost of a new form of energy down, it can like take over everything else in a couple of decades, just phenomenally fast. And then also a system where we can create enough energy and enough reliable energy, both in terms of the machines not breaking and also not having the intermittance or the need for storage of solar or wind or something like that. If we can create enough for Earth in like 10 years. And I think that's actually the hardest challenge that helium faces. As we sketch out what it takes operationally to do that, to replace all the current generative capacity on Earth with fusion and to do it really fast, and to think about what it really means to build a factory that's capable of like putting out two of these machines a day for a decade. That's really hard. But also a super fun problem. So I think there will be, I'm very happy there's a fusion race. I think that's great. I'm also very happy solar and batteries are getting so cheap. But I think what will matter is who can deliver energy, the cheapest and enough of it. And again, just knowing only what I read on a superficial way, why is helium's approach to your mind superior than what these, what dozens of nations are working on in the South of France? Yeah. Well, that thing, I think probably will work either. But what I was just saying earlier, I think it will be commercially irrelevant. They also think it will be commercially irrelevant. The thing that is so exciting to me about helium is that it's a simple machine that is at affordable cost and a reasonable size. There's a bunch of different elements of it than like the giant Tocomax. But one that is very cool is what comes out of the reaction is charge particles, not heat. Almost all other sort of like a coal plant or a natural gas plant or whatever makes heat drive the steam turbine. That's what it does. Hewie-on-mix charge particles, which push back on the magnet and drive an electrical current down a wire. There's no heat cycle at all. And so it can be a much simpler, much more efficient system. And that, I think, is like missed out of the whole discussion on fusion. But really great. It also means we don't have to deal with like much nuclear material. We don't ever have like dangerous waste or even a dangerous system. You could like touch it pretty shortly after it turns off. And I mean, so I know it's building a big facility right now. Has it proven its thesis? We will have more to share there shortly. Okay. Well, after talking to you last time a few years ago and looking back on our conversation where I was like, ah, Sam, I know everything that you said was going to happen is happening. I take you more seriously than I did and should have. There's a long way to go, but thank you. So I also wanted to ask about some of your other investments, one of which I think is really interesting, Hermias. Yeah. So Hermias is interesting for a few reasons. Hermias is a supersonic jet company that wants to go at like five times the speed of sound. So that's cool. Also a big investment from you, I think. It was like a hundred million dollar round that you led. But also you were involved with a competitor for a while. You're on the board of Boom Supersonic, whose CEO has also participated in a strictly VC event. So just wondering why being choices. Not at all change for some sense. Boom is a different technology and it's like a mock two-ish airplane instead of a mock five-ish airplane. Hermias is like a ramjet technology that has very different characteristics. But I think there will be, like it's a huge market. I think there will be multiple needs. I think these are pretty very different approaches. And my general approach is if there's like an area that I think is really important, like energy for example, I try to fund the best fusion and the best fusion company I can. They're competitive in the sense that they're both trying to make cheap energy, but like we desperately need more cheap energy. It's a huge market. I think they can both work. I wouldn't have funded two like exact same approach airplane companies. But I think these are like very different. And also, you know, you are somebody who thinks about sort of second order effects. When you think about Hermias, I mean, first of all, I guess is it climate friendly? And second, what are the impacts I guess good and bad of us traveling around the world much faster than we do right now? Part of my theory is that, so it's not climate friendly if it's using current aviation fuel. I think even if something like fusion doesn't happen, there's a pretty good move to sustainable aviation fuel. And you know, at some point, we'll be all using that anyway. If something like fusion does work, it will so change the dynamics of what's possible in terms of our ability to create things like aviation fuel easily or capture carbon out of the atmosphere that I am confident enough in that working, that things I was much more nervous about doing a few years ago, creating faster airplanes that will increase the need for fuel because you have to burn a lot more fuel to go even a little bit faster. I'm sort of much more open to. In terms of like the benefits of traveling fast, I think human history is like a pretty good. There's like quite good evidence that when we are able to travel faster and more conveniently good things happen. Where commerce happens, more innovation happens, I think people develop much more empathy. Certainly the time I have spent traveling around the world and seeing very different things, very different problems, meeting very different people have been super formative for me and I think more of that's a good thing. I guess one downside is the spread of disease happens faster, but that's... Yes, although I think blaming faster planes for the spread of disease rather than the incompetence of governments and insufficient funding for pandemic responses, sort of the wrong way to go about it. What about World Coin? That was a strange one and that one was not received well by the media. We probably didn't understand it, but... You can't win them all. Wait, can I read the headline in Bloomberg? Sam Alvin wants to scan your eyeball in exchange for cryptocurrency. What is going on with that company? Is it still working on it and should we be scared? I am... yeah, like I think that's... they'll have more to share soon. I am like a co-founder, I'm on the board, I'm not day to day involved, but I think super highly of them. I think the press cycle... it came from a leak the company hadn't... It was not ready to tell its story yet, that was unfortunate. I think they'll do it soon and I think it will go over well. I think the need... so I try to think about not any individual company but sort of where the world is going to co-evolve. I think at this point the need for systems that provide proof of personhood and the need for new experiments with well-3 distribution and global governance of systems like say, an AGI is higher. I'm very glad this experiment is running. I'd like to see many more. I think to me, personally and again, people will have different opinions and they'll do what they want. But the amount of privacy you give up to like use Facebook or something versus the amount of privacy you give up for like a scan of your retina and nothing else, like I'd much rather have the latter. And many people won't want that and that's fine. But I think more experiments about what we can do, what problems we can solve with technology in this sort of new world, like great to try that stuff. I think it's a phenomenal team. I think they've got a great product. I'm excited for the launch. When is that? I don't know exactly, but pretty soon, like months. And you're a co-founder, but you're obviously not very involved. One of the investors, I just happened to notice with Sam Bankman-Freed, who's also like you and Emily. I did not know that. Very interesting. I really didn't. He's personally an investor in the company. I mean, according to some report. No, I didn't know that. Do you know him? We met briefly, very briefly once only. Okay, so not enough to form an opinion. Okay. Scratch that. I have questions. Not good. I wanted to ask about then crypto more broadly. You have a smattering of crypto investments. I don't know how interested you are if this is like friends that you've backed. Honestly, not super interested. I'm interested in World Coin, not because it's crypto, but because I think it's an interesting... It's an interesting attempt to use technology to solve something that is beyond what even governments in the world can effectively do. And I think if we can use technology, any technology, to experiment with global UBI instead of what one country could do, I'd be very happy to see what happens there, but that's not really about any particular technology. I think crypto is just like a way that we should try implementing that. And we should, again, try lots and lots of other things. So we don't need a new web. We don't need new infrastructure. We don't need decentralization. This is like one of the things that makes me feel really old and out of touch. I've never quite understood that. I love the spirit of the Web 3 people, but I don't intuitively feel why we need it. That's great. That's a relief, because I think a lot of people feel the same way. I want to move on soon, but another company that I think is so interesting, and again, these are also different and ambitious, is Conception, which is a startup pursuing what's called Invitro Gamer to Genesis, which refers to turning adult cells into gametes, sperm or egg cells. So, I mean, is this fantasy what makes you think that artificial eggs is... It's not possible. Fantasy, you know, there was a recent paper. They really truly have this not working in mice. Obviously working in mice is very different than working in humans. We've learned that lesson many times. But it seems to me like it should work at some point. It's not soon. There's a gigantic amount of work left to do. But I think what's happening in biotech in general is just tremendously exciting now. I think it's like kind of in the shadow of AI, which is taken over so much of the mind share. But I think the next five, seven years of biotech progress is going to be remarkable. And yeah, I think like if we do this again three years later, that one in particular will seem like, oh yeah, that's going to work. And I think things that are even further out there like human life extension or whatever will also seem like, yeah, maybe that's going to work. That's phenomenal. I guess there's obviously a lot of overlap, which is why you think that these things are going to work. Yeah, I think a lot of these things have these weirdly synergistic effects with each other. But even without that, I would just say biotech on its own has made quite a lot of progress. There's so much interesting stuff going on. I didn't reviewed a founder recently who's trying to extend the life of women's overuse, which I also think is really interesting. Okay, before we move on, you have been investing for 20 years. You were the president of Y-combinator for something like five or six years. You have your successor, Jeff Ralston, just left, Gary Tankiman. You had told Tad Friend once that when a CEO takes over a company, they have to kind of re-found, I think, was the word use the company. Do you think Gary's got to do anything differently? Gary's awesome. I think Gary will do a lot of things differently and be wildly successful at it. We're in a very different world and market now. I got to run, I said this once as somebody, I got to run Y-C at the time where any idiot would have been wildly successful. That was great. That was a lot of fun. And then the last couple of years, I think, were really hard. But now, when everything is bombed out, I think it's a wonderful opportunity. I think Y-C can really remake itself. And I think Gary is an incredible leader to do that. And at the time when all of the tourists are leaving and all of the people who are starting startups or raising their seed fund or whatever, because it was like the fashionable thing to do are leaving. This is when the great value gets created. This is like the best time to start a startup in many, many, many years. So I'm very excited for him.\"]\n"
     ]
    }
   ],
   "source": [
    "print(podcasts_to_analyze)"
   ]
  },
  {
   "cell_type": "code",
   "execution_count": 9,
   "id": "3081ef70-f7c3-47d4-aefc-e1cd2b01aa55",
   "metadata": {},
   "outputs": [],
   "source": [
    "from langchain import PromptTemplate\n",
    "\n",
    "\n",
    "template = \"\"\"\n",
    "Read the transcript of the podcast below:\n",
    " {podcast_contents}\n",
    "\n",
    "Create bullet points with the main topics of the podcast, followed by the opinions of the speakers. \n",
    "\"\"\"\n",
    "\n",
    "podcast_summary_prompt = PromptTemplate(\n",
    "    input_variables=[\"podcast_contents\"],\n",
    "    template=template,\n",
    ")\n"
   ]
  },
  {
   "cell_type": "code",
   "execution_count": 10,
   "id": "adcd4686-0856-4392-923d-dce6d5834e62",
   "metadata": {},
   "outputs": [],
   "source": [
    "from langchain import PromptTemplate\n",
    "\n",
    "\n",
    "template = \"\"\"\n",
    "When I listen to a podcast, I take notes on the main talking points of the hosts. I divide it in sections based on topics discussed. \n",
    "If the host mentions a specific technology or product, I note that in double brackets like this: [[artificial intelligence]].\n",
    "\n",
    "These are the notes from the last podcast I listened to:\n",
    "\n",
    "{podcast_notes}\n",
    "\n",
    "Write a {words_count} words summary of the notes.\n",
    "\"\"\"\n",
    "\n",
    "notes_summary_template = PromptTemplate(\n",
    "    input_variables=[\"podcast_notes\", \"words_count\"],\n",
    "    template=template,\n",
    ")\n"
   ]
  },
  {
   "cell_type": "code",
   "execution_count": 11,
   "id": "c9472a7e-ad26-469b-bd99-2904a4ec730d",
   "metadata": {},
   "outputs": [],
   "source": [
    "from langchain import PromptTemplate\n",
    "\n",
    "\n",
    "template = \"\"\"\n",
    "When I take notes for a podcast, I like to also write twitter threads to share them. Each tweet should end saying how far we are in the thread; if it's a 5 tweets thread, the first tweet should end with (1/5), the second one with (2/5), etc.\n",
    "\n",
    "The tweets have to be easy to read and catch people's attention. Each of them should include an emoji.\n",
    "\n",
    "These are the notes from my last podcast:\n",
    "\n",
    "{podcast_notes}\n",
    "\n",
    "Create a twitter thread for it.\n",
    "\"\"\"\n",
    "\n",
    "twitter_thread_template = PromptTemplate(\n",
    "    input_variables=[\"podcast_notes\"],\n",
    "    template=template,\n",
    ")\n"
   ]
  },
  {
   "cell_type": "code",
   "execution_count": 14,
   "id": "c61a4bd2-9c89-4a8e-bf3d-792cb97369c0",
   "metadata": {},
   "outputs": [],
   "source": [
    "from langchain.llms import OpenAI\n",
    "from langchain.chains import LLMChain\n",
    "from langchain.text_splitter import CharacterTextSplitter\n",
    "\n",
    "llm = OpenAI(model_name=\"text-davinci-003\")\n",
    "chain = LLMChain(llm=llm, prompt=podcast_summary_prompt)\n",
    "\n",
    "all_results = []\n",
    "\n",
    "for podcast in podcasts_to_analyze:\n",
    "  text_splitter = CharacterTextSplitter(        \n",
    "    separator = \". \",\n",
    "    chunk_size = 4000,\n",
    "    chunk_overlap  = 200,\n",
    "    length_function = len,\n",
    "  )\n",
    "  texts = text_splitter.split_text(podcast)\n",
    "  results = []  \n",
    "  \n",
    "  for text in texts:\n",
    "    subset = chain.run(text)\n",
    "    results.append(subset)\n",
    "\n",
    "  all_results.append('. '.join(results))"
   ]
  },
  {
   "cell_type": "code",
   "execution_count": 15,
   "id": "400306f7",
   "metadata": {},
   "outputs": [
    {
     "name": "stdout",
     "output_type": "stream",
     "text": [
      "• Sam Altman has been at the center of the startup conversation for nearly 10 years since he took over as President of Y Combinator.\n",
      "• Sam's time is mostly taken up with OpenAI, a research lab that has managed to do some amazing work in the field of AI.\n",
      "• Sam does not read the news and prefers to not be too involved in the national conversation.\n",
      "• Sam has a lot of respect for Elon Musk, and believes that things will be fine in the long run.\n",
      "• Sam is also an investor, and is one of the best storytellers in Silicon Valley.\n",
      "• Sam currently has an unspecified number of active investments.. - SAM Altman has 400 active investments\n",
      "- He looks for investments in hard tech, research, and capital-intensive projects\n",
      "- His most successful investment to date is Stripe\n",
      "- He has invested in Helian since 2015, recently writing a $375 million check\n",
      "- Helian is working on a new form of energy with the goal of replacing all current energy sources on Earth\n",
      "- SAM Altman is excited about the fusion race and the progress of solar and batteries. -Fusion energy and solar/battery energy will be key to who can deliver energy the cheapest and in enough quantity. \n",
      "-Helium's approach to energy is simpler, more efficient, and doesn't require dangerous waste or a dangerous system. \n",
      "-Hermias is a supersonic jet company that wants to go at five times the speed of sound. \n",
      "-Boom Supersonic is a competitor with a different technology. \n",
      "-Hermias is not climate friendly if it is using current aviation fuel, but there is a move to sustainable aviation fuel.. • The potential of sustainable aviation fuel and the benefits of faster travel\n",
      "• The spread of disease due to faster travel and the role of governments and funding in pandemic responses\n",
      "• World Coin and the media's reaction to it\n",
      "• Sam Bankman-Freed's involvement in the company and Sam Alvin's opinion of it\n",
      "• Sam Alvin's lack of interest in the broader crypto market and the investments he has made. \n",
      "- Interest in World Coin as a way to experiment with global UBI\n",
      "- Excitement for the progress being made in biotech\n",
      "- Conception's attempt to turn adult cells into gametes\n",
      "- Gary Tankiman taking over Y-Combinator and the potential to remake the company\n",
      "- The best time to start a startup in many years\n"
     ]
    }
   ],
   "source": [
    "print(\"\\n\".join(all_results))"
   ]
  }
 ],
 "metadata": {
  "kernelspec": {
   "display_name": "Python 3 (ipykernel)",
   "language": "python",
   "name": "python3"
  },
  "language_info": {
   "codemirror_mode": {
    "name": "ipython",
    "version": 3
   },
   "file_extension": ".py",
   "mimetype": "text/x-python",
   "name": "python",
   "nbconvert_exporter": "python",
   "pygments_lexer": "ipython3",
   "version": "3.10.9 (main, Dec 15 2022, 10:44:50) [Clang 14.0.0 (clang-1400.0.29.202)]"
  },
  "vscode": {
   "interpreter": {
    "hash": "b0fa6594d8f4cbf19f97940f81e996739fb7646882a419484c72d19e05852a7e"
   }
  }
 },
 "nbformat": 4,
 "nbformat_minor": 5
}
